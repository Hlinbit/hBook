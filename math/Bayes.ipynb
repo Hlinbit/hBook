{
 "cells": [
  {
   "cell_type": "markdown",
   "id": "e383f6db-0533-4bdd-9bf0-03a6b59c61bb",
   "metadata": {},
   "source": [
    "Gaussian distribution formula:\n",
    "$$              f(x | \\mu, \\sigma^2) = \\frac{1}{\\sqrt{2\\pi\\sigma^2}} \\exp\\left(-\\frac{(x - \\mu)^2}{2\\sigma^2}\\right)            $$\n",
    "The Bayes' theorem:\n",
    "$$              P(A|B) = P(B|A) * P(A) / P(B)    $$\n",
    "In this formula:\n",
    "\n",
    "- $P(A|B)$ is the posterior probability of event A given that event B has occurred.\n",
    "- $P(B|A)$ is the probability of event B given that event A has occurred.\n",
    "- $P(A)$ and $P(B)$ are the prior probabilities of events A and B respectively.\n",
    "\n",
    "## Naive Bayes\n",
    "\n",
    "Two important assumptions: \n",
    "1. All predictor variables are mutually independent.\n",
    "2. Each predictor variable contributes equally to the outcome."
   ]
  },
  {
   "cell_type": "markdown",
   "id": "2b94795f-27b1-48cb-a664-54e1836f07bc",
   "metadata": {},
   "source": []
  },
  {
   "cell_type": "code",
   "execution_count": null,
   "id": "ef325916-d842-4430-91e7-8317adf9ac0c",
   "metadata": {},
   "outputs": [],
   "source": []
  }
 ],
 "metadata": {
  "kernelspec": {
   "display_name": "Python 3 (ipykernel)",
   "language": "python",
   "name": "python3"
  },
  "language_info": {
   "codemirror_mode": {
    "name": "ipython",
    "version": 3
   },
   "file_extension": ".py",
   "mimetype": "text/x-python",
   "name": "python",
   "nbconvert_exporter": "python",
   "pygments_lexer": "ipython3",
   "version": "3.9.18"
  }
 },
 "nbformat": 4,
 "nbformat_minor": 5
}
